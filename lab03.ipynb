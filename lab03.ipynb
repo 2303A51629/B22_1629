{
  "nbformat": 4,
  "nbformat_minor": 0,
  "metadata": {
    "colab": {
      "provenance": [],
      "authorship_tag": "ABX9TyNemZCG2W164rIR05x3Wsn6",
      "include_colab_link": true
    },
    "kernelspec": {
      "name": "python3",
      "display_name": "Python 3"
    },
    "language_info": {
      "name": "python"
    }
  },
  "cells": [
    {
      "cell_type": "markdown",
      "metadata": {
        "id": "view-in-github",
        "colab_type": "text"
      },
      "source": [
        "<a href=\"https://colab.research.google.com/github/2303A51629/B22_1629/blob/main/lab03.ipynb\" target=\"_parent\"><img src=\"https://colab.research.google.com/assets/colab-badge.svg\" alt=\"Open In Colab\"/></a>"
      ]
    },
    {
      "cell_type": "code",
      "execution_count": 2,
      "metadata": {
        "id": "mSRnZovAV72A"
      },
      "outputs": [],
      "source": [
        "import numpy as np"
      ]
    },
    {
      "cell_type": "code",
      "source": [
        "test_scores = np.random.randint(50, 101, size=(4, 4))\n",
        "print(test_scores)"
      ],
      "metadata": {
        "colab": {
          "base_uri": "https://localhost:8080/"
        },
        "id": "nyPIsXdiZTak",
        "outputId": "03c4ecb9-9070-439d-e7a6-231a6fb91182"
      },
      "execution_count": 3,
      "outputs": [
        {
          "output_type": "stream",
          "name": "stdout",
          "text": [
            "[[100  90  73  67]\n",
            " [ 53  63  81  99]\n",
            " [ 90  58  83  72]\n",
            " [ 63  99  92  63]]\n"
          ]
        }
      ]
    },
    {
      "cell_type": "code",
      "source": [
        "column_means = np.mean(test_scores, axis=0)\n",
        "row_means = np.mean(test_scores, axis=1)\n",
        "\n",
        "print(\"Column-wise means:\", column_means)\n",
        "print(\"Row-wise means:\", row_means)"
      ],
      "metadata": {
        "colab": {
          "base_uri": "https://localhost:8080/"
        },
        "id": "MBjTqyoDZXmm",
        "outputId": "4e027ebd-9c0f-4413-d0f5-b79549e89fbb"
      },
      "execution_count": 4,
      "outputs": [
        {
          "output_type": "stream",
          "name": "stdout",
          "text": [
            "Column-wise means: [76.5  77.5  82.25 75.25]\n",
            "Row-wise means: [82.5  74.   75.75 79.25]\n"
          ]
        }
      ]
    },
    {
      "cell_type": "code",
      "source": [
        "std_dev = np.std(test_scores)\n",
        "variance = np.var(test_scores)\n",
        "\n",
        "print(\"Standard Deviation:\", std_dev)\n",
        "print(\"Variance:\", variance)"
      ],
      "metadata": {
        "colab": {
          "base_uri": "https://localhost:8080/"
        },
        "id": "tlzDPuc9ZcWz",
        "outputId": "73926c89-e4e3-41f5-b434-2d4633e3be37"
      },
      "execution_count": 5,
      "outputs": [
        {
          "output_type": "stream",
          "name": "stdout",
          "text": [
            "Standard Deviation: 15.341426758942598\n",
            "Variance: 235.359375\n"
          ]
        }
      ]
    },
    {
      "cell_type": "code",
      "source": [
        "min_value = np.min(test_scores)\n",
        "max_value = np.max(test_scores)\n",
        "min_index = np.argmin(test_scores)\n",
        "max_index = np.argmax(test_scores)\n",
        "\n",
        "print(\"Minimum value:\", min_value)\n",
        "print(\"Maximum value:\", max_value)\n",
        "print(\"Index of minimum value:\", min_index)\n",
        "print(\"Index of maximum value:\", max_index)"
      ],
      "metadata": {
        "colab": {
          "base_uri": "https://localhost:8080/"
        },
        "id": "71sm0DvDZjw6",
        "outputId": "a0b8821d-2411-485b-d3ae-98fa7715f664"
      },
      "execution_count": 6,
      "outputs": [
        {
          "output_type": "stream",
          "name": "stdout",
          "text": [
            "Minimum value: 53\n",
            "Maximum value: 100\n",
            "Index of minimum value: 4\n",
            "Index of maximum value: 0\n"
          ]
        }
      ]
    },
    {
      "cell_type": "code",
      "source": [
        "print(\"Statistical Analysis Summary:\")\n",
        "print(f\"Row-wise means: {row_means}\")\n",
        "print(f\"Column-wise means: {column_means}\")\n",
        "print(f\"Overall Standard Deviation: {std_dev}\")\n",
        "print(f\"Overall Variance: {variance}\")\n",
        "print(f\"Global Minimum Value: {min_value} (Index: {min_index})\")\n",
        "print(f\"Global Maximum Value: {max_value} (Index: {max_index})\")"
      ],
      "metadata": {
        "colab": {
          "base_uri": "https://localhost:8080/"
        },
        "id": "k_uA_HxtZoew",
        "outputId": "40485509-3216-4b09-a35a-cbf0369498f4"
      },
      "execution_count": 7,
      "outputs": [
        {
          "output_type": "stream",
          "name": "stdout",
          "text": [
            "Statistical Analysis Summary:\n",
            "Row-wise means: [82.5  74.   75.75 79.25]\n",
            "Column-wise means: [76.5  77.5  82.25 75.25]\n",
            "Overall Standard Deviation: 15.341426758942598\n",
            "Overall Variance: 235.359375\n",
            "Global Minimum Value: 53 (Index: 4)\n",
            "Global Maximum Value: 100 (Index: 0)\n"
          ]
        }
      ]
    },
    {
      "cell_type": "code",
      "source": [
        "rgb_image = np.random.randint(0, 256, size=(3, 3, 3))\n",
        "print(rgb_image)"
      ],
      "metadata": {
        "colab": {
          "base_uri": "https://localhost:8080/"
        },
        "id": "0uvqe7uMZuVL",
        "outputId": "9c88b1e6-6c33-43e5-ea57-ac7ec3990133"
      },
      "execution_count": 8,
      "outputs": [
        {
          "output_type": "stream",
          "name": "stdout",
          "text": [
            "[[[103 157 224]\n",
            "  [111  48 159]\n",
            "  [140  24  22]]\n",
            "\n",
            " [[129 246 135]\n",
            "  [  9 184 215]\n",
            "  [ 76  84   1]]\n",
            "\n",
            " [[155  62 110]\n",
            "  [ 33 112  90]\n",
            "  [237 168 232]]]\n"
          ]
        }
      ]
    },
    {
      "cell_type": "code",
      "source": [
        "red_channel = rgb_image[:, :, 0]\n",
        "green_channel = rgb_image[:, :, 1]\n",
        "blue_channel = rgb_image[:, :, 2]\n",
        "print(\"Red Channel:\\n\", red_channel)\n",
        "print(\"Green Channel:\\n\", green_channel)\n",
        "print(\"Blue Channel:\\n\", blue_channel)"
      ],
      "metadata": {
        "colab": {
          "base_uri": "https://localhost:8080/"
        },
        "id": "x7HmiCu5Z0Io",
        "outputId": "05400833-14aa-4fd3-c7d9-7e95fdda52d4"
      },
      "execution_count": 9,
      "outputs": [
        {
          "output_type": "stream",
          "name": "stdout",
          "text": [
            "Red Channel:\n",
            " [[103 111 140]\n",
            " [129   9  76]\n",
            " [155  33 237]]\n",
            "Green Channel:\n",
            " [[157  48  24]\n",
            " [246 184  84]\n",
            " [ 62 112 168]]\n",
            "Blue Channel:\n",
            " [[224 159  22]\n",
            " [135 215   1]\n",
            " [110  90 232]]\n"
          ]
        }
      ]
    },
    {
      "cell_type": "code",
      "source": [
        "red_mean = np.mean(red_channel)\n",
        "green_mean = np.mean(green_channel)\n",
        "blue_mean = np.mean(blue_channel)\n",
        "print(f\"Average pixel intensity for Red channel: {red_mean}\")\n",
        "print(f\"Average pixel intensity for Green channel: {green_mean}\")\n",
        "print(f\"Average pixel intensity for Blue channel: {blue_mean}\")"
      ],
      "metadata": {
        "colab": {
          "base_uri": "https://localhost:8080/"
        },
        "id": "SGS29K_hZ8iG",
        "outputId": "917a3efb-c0cb-4233-ea4f-2d222945701c"
      },
      "execution_count": 10,
      "outputs": [
        {
          "output_type": "stream",
          "name": "stdout",
          "text": [
            "Average pixel intensity for Red channel: 110.33333333333333\n",
            "Average pixel intensity for Green channel: 120.55555555555556\n",
            "Average pixel intensity for Blue channel: 132.0\n"
          ]
        }
      ]
    },
    {
      "cell_type": "code",
      "source": [
        "brightness_increase = 50\n",
        "brightened_image = np.clip(rgb_image + brightness_increase, 0, 255)\n",
        "print(\"Brightened Image (clipped at 255):\\n\", brightened_image)"
      ],
      "metadata": {
        "colab": {
          "base_uri": "https://localhost:8080/"
        },
        "id": "P2vJnEKrZ-Q6",
        "outputId": "1b5077aa-64e7-46cc-f89e-859cf7424db5"
      },
      "execution_count": 11,
      "outputs": [
        {
          "output_type": "stream",
          "name": "stdout",
          "text": [
            "Brightened Image (clipped at 255):\n",
            " [[[153 207 255]\n",
            "  [161  98 209]\n",
            "  [190  74  72]]\n",
            "\n",
            " [[179 255 185]\n",
            "  [ 59 234 255]\n",
            "  [126 134  51]]\n",
            "\n",
            " [[205 112 160]\n",
            "  [ 83 162 140]\n",
            "  [255 218 255]]]\n"
          ]
        }
      ]
    },
    {
      "cell_type": "code",
      "source": [
        "print(\"Statistical Analysis Summary:\")\n",
        "print(\"Red Channel:\\n\", red_channel)\n",
        "print(\"Green Channel:\\n\", green_channel)\n",
        "print(\"Blue Channel:\\n\", blue_channel)\n",
        "print(f\"\\nAverage pixel intensity for Red channel: {red_mean}\")\n",
        "print(f\"Average pixel intensity for Green channel: {green_mean}\")\n",
        "print(f\"Average pixel intensity for Blue channel: {blue_mean}\")\n",
        "print(\"\\nBrightened Image (clipped at 255):\\n\", brightened_image)"
      ],
      "metadata": {
        "colab": {
          "base_uri": "https://localhost:8080/"
        },
        "id": "HsJod8MIaF_8",
        "outputId": "c67eea5d-8dca-42a5-ebaf-0ed243e9e229"
      },
      "execution_count": 12,
      "outputs": [
        {
          "output_type": "stream",
          "name": "stdout",
          "text": [
            "Statistical Analysis Summary:\n",
            "Red Channel:\n",
            " [[103 111 140]\n",
            " [129   9  76]\n",
            " [155  33 237]]\n",
            "Green Channel:\n",
            " [[157  48  24]\n",
            " [246 184  84]\n",
            " [ 62 112 168]]\n",
            "Blue Channel:\n",
            " [[224 159  22]\n",
            " [135 215   1]\n",
            " [110  90 232]]\n",
            "\n",
            "Average pixel intensity for Red channel: 110.33333333333333\n",
            "Average pixel intensity for Green channel: 120.55555555555556\n",
            "Average pixel intensity for Blue channel: 132.0\n",
            "\n",
            "Brightened Image (clipped at 255):\n",
            " [[[153 207 255]\n",
            "  [161  98 209]\n",
            "  [190  74  72]]\n",
            "\n",
            " [[179 255 185]\n",
            "  [ 59 234 255]\n",
            "  [126 134  51]]\n",
            "\n",
            " [[205 112 160]\n",
            "  [ 83 162 140]\n",
            "  [255 218 255]]]\n"
          ]
        }
      ]
    }
  ]
}