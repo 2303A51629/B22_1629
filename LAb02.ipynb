{
  "nbformat": 4,
  "nbformat_minor": 0,
  "metadata": {
    "colab": {
      "provenance": [],
      "authorship_tag": "ABX9TyP5oAGQHuIZkMgggcXo918q",
      "include_colab_link": true
    },
    "kernelspec": {
      "name": "python3",
      "display_name": "Python 3"
    },
    "language_info": {
      "name": "python"
    }
  },
  "cells": [
    {
      "cell_type": "markdown",
      "metadata": {
        "id": "view-in-github",
        "colab_type": "text"
      },
      "source": [
        "<a href=\"https://colab.research.google.com/github/2303A51629/B22_1629/blob/main/LAb02.ipynb\" target=\"_parent\"><img src=\"https://colab.research.google.com/assets/colab-badge.svg\" alt=\"Open In Colab\"/></a>"
      ]
    },
    {
      "cell_type": "code",
      "execution_count": 1,
      "metadata": {
        "colab": {
          "base_uri": "https://localhost:8080/"
        },
        "id": "oQafuwXgCLoK",
        "outputId": "414271cd-17a4-443b-8035-d0e185a51395"
      },
      "outputs": [
        {
          "output_type": "stream",
          "name": "stdout",
          "text": [
            "Student Marks:\n",
            " [[85 78 92]\n",
            " [76 88 69]\n",
            " [90 91 85]]\n"
          ]
        }
      ],
      "source": [
        "import numpy as np\n",
        "marks = np.array([\n",
        "    [85, 78, 92],\n",
        "    [76, 88, 69],\n",
        "    [90, 91, 85],\n",
        "    ])\n",
        "print(\"Student Marks:\\n\",marks)"
      ]
    },
    {
      "cell_type": "markdown",
      "source": [
        "Calculate average, minimum, and maximum markst"
      ],
      "metadata": {
        "id": "5orF1yqRCbdT"
      }
    },
    {
      "cell_type": "code",
      "source": [
        "avg_stu=np.mean(marks, axis=1)\n",
        "print(\"\\nAverage marks per student:\",avg_stu)\n",
        "\n",
        "min_stu=np.min(marks, axis=0)\n",
        "print(\"\\nMinimum marks per student:\",min_stu)\n",
        "\n",
        "max_stu=np.max(marks, axis=0)\n",
        "print(\"\\nMaximum marks per student:\",max_stu)\n"
      ],
      "metadata": {
        "colab": {
          "base_uri": "https://localhost:8080/"
        },
        "id": "5yEabZw-CTlw",
        "outputId": "69f016da-efdc-46b4-e829-d4aded005af5"
      },
      "execution_count": 2,
      "outputs": [
        {
          "output_type": "stream",
          "name": "stdout",
          "text": [
            "\n",
            "Average marks per student: [85.         77.66666667 88.66666667]\n",
            "\n",
            "Minimum marks per student: [76 78 69]\n",
            "\n",
            "Maximum marks per student: [90 91 92]\n"
          ]
        }
      ]
    },
    {
      "cell_type": "markdown",
      "source": [
        "Use slicing to retrieve marks of specific students"
      ],
      "metadata": {
        "id": "M5wbRuBCCkj1"
      }
    },
    {
      "cell_type": "code",
      "source": [
        "print(\"Marks of student 1:\",marks[0])\n",
        "\n",
        "print(\"Marks of first 3 students :\\n\",marks[:3])\n",
        ""
      ],
      "metadata": {
        "colab": {
          "base_uri": "https://localhost:8080/"
        },
        "id": "b8QhO2IlCeC7",
        "outputId": "c5dd71aa-affd-48d4-fb25-b327fca2b2bc"
      },
      "execution_count": 3,
      "outputs": [
        {
          "output_type": "stream",
          "name": "stdout",
          "text": [
            "Marks of student 1: [85 78 92]\n",
            "Marks of first 3 students :\n",
            " [[85 78 92]\n",
            " [76 88 69]\n",
            " [90 91 85]]\n"
          ]
        }
      ]
    },
    {
      "cell_type": "markdown",
      "source": [
        "Use boolean indexing to find students scoring above 80 in all subjects"
      ],
      "metadata": {
        "id": "Z0mvheZECrTM"
      }
    },
    {
      "cell_type": "code",
      "source": [
        "high_achievers = marks[np.all(marks > 80, axis=1)]\n",
        "print(\"\\nStudents scoring above 80 in all subjects:\\n\", high_achievers)\n",
        ""
      ],
      "metadata": {
        "colab": {
          "base_uri": "https://localhost:8080/"
        },
        "id": "URJmmzPsCmDA",
        "outputId": "2f73f682-4a18-4d62-f7db-c493b372f4ff"
      },
      "execution_count": 4,
      "outputs": [
        {
          "output_type": "stream",
          "name": "stdout",
          "text": [
            "\n",
            "Students scoring above 80 in all subjects:\n",
            " [[90 91 85]]\n"
          ]
        }
      ]
    },
    {
      "cell_type": "markdown",
      "source": [
        "Reshape array to observe subject-wise performance"
      ],
      "metadata": {
        "id": "vhCpXB_SEBFZ"
      }
    },
    {
      "cell_type": "code",
      "source": [
        "subject_wise = marks.T\n",
        "print(\"\\nSubject-wise performance:\\n\", subject_wise)"
      ],
      "metadata": {
        "colab": {
          "base_uri": "https://localhost:8080/"
        },
        "id": "5bpj_D8tCuyH",
        "outputId": "63f9507c-19a6-47b0-c70d-0927a1091a8f"
      },
      "execution_count": 5,
      "outputs": [
        {
          "output_type": "stream",
          "name": "stdout",
          "text": [
            "\n",
            "Subject-wise performance:\n",
            " [[85 76 90]\n",
            " [78 88 91]\n",
            " [92 69 85]]\n"
          ]
        }
      ]
    },
    {
      "cell_type": "markdown",
      "source": [
        "Brief Analysis of Results"
      ],
      "metadata": {
        "id": "gHB5LvlfEM4O"
      }
    },
    {
      "cell_type": "code",
      "source": [
        "print(\"1.Student 3 has scored consistently high.\")\n",
        "print(\"2.Subject 3 has the highest average performance\")\n",
        "print(\"3.1 student(s) scored above 80 in all subjects.\")"
      ],
      "metadata": {
        "colab": {
          "base_uri": "https://localhost:8080/"
        },
        "id": "owVmcFFpEEh6",
        "outputId": "e0b25ada-125d-4653-e906-78fbd1a726a1"
      },
      "execution_count": 6,
      "outputs": [
        {
          "output_type": "stream",
          "name": "stdout",
          "text": [
            "1.Student 3 has scored consistently high.\n",
            "2.Subject 3 has the highest average performance\n",
            "3.1 student(s) scored above 80 in all subjects.\n"
          ]
        }
      ]
    }
  ]
}