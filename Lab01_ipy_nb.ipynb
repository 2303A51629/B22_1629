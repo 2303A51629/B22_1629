{
  "nbformat": 4,
  "nbformat_minor": 0,
  "metadata": {
    "colab": {
      "provenance": [],
      "authorship_tag": "ABX9TyOgYQRMIVF5mB8hDhMx4XYt",
      "include_colab_link": true
    },
    "kernelspec": {
      "name": "python3",
      "display_name": "Python 3"
    },
    "language_info": {
      "name": "python"
    }
  },
  "cells": [
    {
      "cell_type": "markdown",
      "metadata": {
        "id": "view-in-github",
        "colab_type": "text"
      },
      "source": [
        "<a href=\"https://colab.research.google.com/github/2303A51629/B22_1629/blob/main/Lab01_ipy_nb.ipynb\" target=\"_parent\"><img src=\"https://colab.research.google.com/assets/colab-badge.svg\" alt=\"Open In Colab\"/></a>"
      ]
    },
    {
      "cell_type": "code",
      "execution_count": null,
      "metadata": {
        "colab": {
          "base_uri": "https://localhost:8080/"
        },
        "id": "MjDfdUHCMJQt",
        "outputId": "0c44c816-24e4-45f9-9e5b-e81f352c4675"
      },
      "outputs": [
        {
          "output_type": "stream",
          "name": "stdout",
          "text": [
            "Enter the Number: 10\n",
            "3628800\n"
          ]
        }
      ],
      "source": [
        "def fact(n):\n",
        "    if n == 0 or n == 1:\n",
        "        return 1\n",
        "    else:\n",
        "        return n * fact(n - 1)\n",
        "\n",
        "n = int(input(\"Enter the Number: \"))\n",
        "if n <= 10:\n",
        "    print(fact(n))\n",
        "else:\n",
        "    print(\"Enter Number less than 10\")"
      ]
    }
  ]
}