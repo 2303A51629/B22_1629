{
  "nbformat": 4,
  "nbformat_minor": 0,
  "metadata": {
    "colab": {
      "provenance": [],
      "authorship_tag": "ABX9TyParyO3TweS42NC6ypWYaiZ",
      "include_colab_link": true
    },
    "kernelspec": {
      "name": "python3",
      "display_name": "Python 3"
    },
    "language_info": {
      "name": "python"
    }
  },
  "cells": [
    {
      "cell_type": "markdown",
      "metadata": {
        "id": "view-in-github",
        "colab_type": "text"
      },
      "source": [
        "<a href=\"https://colab.research.google.com/github/2303A51629/B22_1629/blob/main/pandas_29_08_25.ipynb\" target=\"_parent\"><img src=\"https://colab.research.google.com/assets/colab-badge.svg\" alt=\"Open In Colab\"/></a>"
      ]
    },
    {
      "cell_type": "code",
      "source": [
        "import pandas as pd\n",
        "#create a series from list\n",
        "data = [10,20,30,40,50]\n",
        "series = pd.Series(data)\n",
        "print(\"pandsa Series:\")\n",
        "print(series)"
      ],
      "metadata": {
        "colab": {
          "base_uri": "https://localhost:8080/"
        },
        "id": "2wHWmCBuKdUx",
        "outputId": "6aa1058d-790e-4cb9-8b14-9b11c166de26"
      },
      "execution_count": 19,
      "outputs": [
        {
          "output_type": "stream",
          "name": "stdout",
          "text": [
            "pandsa Series:\n",
            "0    10\n",
            "1    20\n",
            "2    30\n",
            "3    40\n",
            "4    50\n",
            "dtype: int64\n"
          ]
        }
      ]
    },
    {
      "cell_type": "code",
      "source": [
        "import pandas as pd\n",
        "data=[10,20,30,40,50]\n",
        "index_labels=['a','b','c','d','e']\n",
        "series=pd.Series(data,index=index_labels)\n",
        "print(series)"
      ],
      "metadata": {
        "colab": {
          "base_uri": "https://localhost:8080/"
        },
        "id": "6aWKeKqw9jdw",
        "outputId": "c86bc8e3-7fa2-4ac1-f2c5-f709bd240458"
      },
      "execution_count": 3,
      "outputs": [
        {
          "output_type": "stream",
          "name": "stdout",
          "text": [
            "a    10\n",
            "b    20\n",
            "c    30\n",
            "d    40\n",
            "e    50\n",
            "dtype: int64\n"
          ]
        }
      ]
    },
    {
      "cell_type": "code",
      "source": [
        "import pandas as pd\n",
        "data={ 'Name':['Alice','Bob','Charlie','David'],'Age':[25,30,35,40],'city':['New York','San Francisco','Los Angeles','Chicago']}\n",
        "df=pd.DataFrame(data)\n",
        "print(df)"
      ],
      "metadata": {
        "colab": {
          "base_uri": "https://localhost:8080/"
        },
        "id": "wncy75H29plk",
        "outputId": "99ba7267-4348-41f7-f0ae-8a705e04de08"
      },
      "execution_count": 4,
      "outputs": [
        {
          "output_type": "stream",
          "name": "stdout",
          "text": [
            "      Name  Age           city\n",
            "0    Alice   25       New York\n",
            "1      Bob   30  San Francisco\n",
            "2  Charlie   35    Los Angeles\n",
            "3    David   40        Chicago\n"
          ]
        }
      ]
    },
    {
      "cell_type": "code",
      "source": [
        "#basic Data frame operations\n",
        "#Accessing a sinlge column\n",
        "print(df['Name'])"
      ],
      "metadata": {
        "colab": {
          "base_uri": "https://localhost:8080/"
        },
        "id": "VvQ4DBw4-zkn",
        "outputId": "c9226cbf-9a73-4bf8-efd4-03b32f7cd709"
      },
      "execution_count": 5,
      "outputs": [
        {
          "output_type": "stream",
          "name": "stdout",
          "text": [
            "0      Alice\n",
            "1        Bob\n",
            "2    Charlie\n",
            "3      David\n",
            "Name: Name, dtype: object\n"
          ]
        }
      ]
    },
    {
      "cell_type": "code",
      "source": [
        "#accesss rows using index\n",
        "print(df.iloc[1])\n",
        "print(df.loc[2])"
      ],
      "metadata": {
        "colab": {
          "base_uri": "https://localhost:8080/"
        },
        "id": "MAdZf3MK_sLe",
        "outputId": "487855c2-e7f9-4495-f5ff-c65928aff1ca"
      },
      "execution_count": 9,
      "outputs": [
        {
          "output_type": "stream",
          "name": "stdout",
          "text": [
            "Name              Bob\n",
            "Age                30\n",
            "city    San Francisco\n",
            "Name: 1, dtype: object\n",
            "Name        Charlie\n",
            "Age              35\n",
            "city    Los Angeles\n",
            "Name: 2, dtype: object\n"
          ]
        }
      ]
    },
    {
      "cell_type": "code",
      "source": [
        "#adding a new column\n",
        "df['Salary']=[50000,60000,70000,80000]\n",
        "print(df)"
      ],
      "metadata": {
        "colab": {
          "base_uri": "https://localhost:8080/"
        },
        "id": "3jvyFBBQ_8C5",
        "outputId": "3beffcc6-8f87-46c3-eb4b-fd5831dd57c2"
      },
      "execution_count": 10,
      "outputs": [
        {
          "output_type": "stream",
          "name": "stdout",
          "text": [
            "      Name  Age           city  Salary\n",
            "0    Alice   25       New York   50000\n",
            "1      Bob   30  San Francisco   60000\n",
            "2  Charlie   35    Los Angeles   70000\n",
            "3    David   40        Chicago   80000\n"
          ]
        }
      ]
    },
    {
      "cell_type": "code",
      "source": [
        "#REmoving a column\n",
        "df=df.drop('Salary',axis=1)\n",
        "print(df)"
      ],
      "metadata": {
        "colab": {
          "base_uri": "https://localhost:8080/"
        },
        "id": "cTIDY_blACYi",
        "outputId": "c5b4cb3a-84a0-4144-f207-2c73ba936b17"
      },
      "execution_count": 11,
      "outputs": [
        {
          "output_type": "stream",
          "name": "stdout",
          "text": [
            "      Name  Age           city\n",
            "0    Alice   25       New York\n",
            "1      Bob   30  San Francisco\n",
            "2  Charlie   35    Los Angeles\n",
            "3    David   40        Chicago\n"
          ]
        }
      ]
    },
    {
      "cell_type": "code",
      "source": [
        "#Filtering data\n",
        "#select rows where age>30\n",
        "print(df[df['Age']>30])"
      ],
      "metadata": {
        "colab": {
          "base_uri": "https://localhost:8080/"
        },
        "id": "QLvvJCG3A_09",
        "outputId": "784c77cf-25a2-414a-f952-d077f2392013"
      },
      "execution_count": 12,
      "outputs": [
        {
          "output_type": "stream",
          "name": "stdout",
          "text": [
            "      Name  Age         city\n",
            "2  Charlie   35  Los Angeles\n",
            "3    David   40      Chicago\n"
          ]
        }
      ]
    },
    {
      "cell_type": "code",
      "source": [
        "#Basic Statistics\n",
        "print(df['Age'].mean())\n",
        "print(df['Age'].max())\n",
        "print(df['Age'].min())"
      ],
      "metadata": {
        "colab": {
          "base_uri": "https://localhost:8080/"
        },
        "id": "suZVvzaMBKVG",
        "outputId": "d7ffcf3d-692c-48f5-fce7-9eadde29b8ad"
      },
      "execution_count": 13,
      "outputs": [
        {
          "output_type": "stream",
          "name": "stdout",
          "text": [
            "32.5\n",
            "40\n",
            "25\n"
          ]
        }
      ]
    },
    {
      "cell_type": "code",
      "source": [
        "#create a dataFrame with student details\n",
        "student_data={'student_id':[101,102,103,104],'Name':['Ravi','Neha','kiran','sita'],'Marks':[85,90,78,92],'Department':['CSE,ECE','CSE','ECE','CSE']}\n",
        "df=pd.DataFrame(student_data)\n",
        "print(df)"
      ],
      "metadata": {
        "colab": {
          "base_uri": "https://localhost:8080/"
        },
        "id": "D5KEWxBoBcip",
        "outputId": "ba66b2e7-bd12-4b3f-95ef-a0bb408d795a"
      },
      "execution_count": 14,
      "outputs": [
        {
          "output_type": "stream",
          "name": "stdout",
          "text": [
            "   student_id   Name  Marks Department\n",
            "0         101   Ravi     85    CSE,ECE\n",
            "1         102   Neha     90        CSE\n",
            "2         103  kiran     78        ECE\n",
            "3         104   sita     92        CSE\n"
          ]
        }
      ]
    },
    {
      "cell_type": "code",
      "source": [
        "#find students with marks>80\n",
        "print(df[df['Marks']>80])"
      ],
      "metadata": {
        "colab": {
          "base_uri": "https://localhost:8080/"
        },
        "id": "-w2OEdlQDigN",
        "outputId": "f37688ca-4b46-4692-b854-fee6e48b7928"
      },
      "execution_count": 15,
      "outputs": [
        {
          "output_type": "stream",
          "name": "stdout",
          "text": [
            "   student_id  Name  Marks Department\n",
            "0         101  Ravi     85    CSE,ECE\n",
            "1         102  Neha     90        CSE\n",
            "3         104  sita     92        CSE\n"
          ]
        }
      ]
    },
    {
      "cell_type": "code",
      "source": [
        "#average marks\n",
        "print(df['Marks'].mean())"
      ],
      "metadata": {
        "colab": {
          "base_uri": "https://localhost:8080/"
        },
        "id": "HKeZIYb_Dtev",
        "outputId": "37296b38-fe90-46d6-86ad-6f4b4a60e91c"
      },
      "execution_count": 16,
      "outputs": [
        {
          "output_type": "stream",
          "name": "stdout",
          "text": [
            "86.25\n"
          ]
        }
      ]
    },
    {
      "cell_type": "code",
      "source": [
        "#add  new column\n",
        "df['Grade']=['A','B','C','A']\n",
        "print(df)"
      ],
      "metadata": {
        "colab": {
          "base_uri": "https://localhost:8080/"
        },
        "id": "KfZRRxxVDx-j",
        "outputId": "9361b6be-e576-425e-d178-11896e838fbd"
      },
      "execution_count": 17,
      "outputs": [
        {
          "output_type": "stream",
          "name": "stdout",
          "text": [
            "   student_id   Name  Marks Department Grade\n",
            "0         101   Ravi     85    CSE,ECE     A\n",
            "1         102   Neha     90        CSE     B\n",
            "2         103  kiran     78        ECE     C\n",
            "3         104   sita     92        CSE     A\n"
          ]
        }
      ]
    },
    {
      "cell_type": "code",
      "source": [
        "stu_data={\n",
        "    'stu_name':['teju','keerthi','sindhu','shailaja','sanjana'],\n",
        "    'stu_rollno':[1,2,3,4,5],\n",
        "    'M1':[90,82,92,95,91],\n",
        "    'M2':[92,81,92,96,95],\n",
        "    'M3':[93,85,95,92,97],\n",
        "}\n",
        "\n",
        "df = pd.DataFrame(stu_data)\n",
        "\n",
        "total=df['M1']+df['M2']+df['M3']\n",
        "df['total']=total\n",
        "\n",
        "result=['pass' if total>=270 else 'fail' for total in df['total']]\n",
        "df['result']=result\n",
        "\n",
        "avg=df['total']/3\n",
        "df['average']=avg\n",
        "\n",
        "print(df)"
      ],
      "metadata": {
        "colab": {
          "base_uri": "https://localhost:8080/"
        },
        "id": "gMk6xfkQGBxv",
        "outputId": "f972ece2-6bfb-4b72-be29-a244d9b3a662"
      },
      "execution_count": 18,
      "outputs": [
        {
          "output_type": "stream",
          "name": "stdout",
          "text": [
            "   stu_name  stu_rollno  M1  M2  M3  total result    average\n",
            "0      teju           1  90  92  93    275   pass  91.666667\n",
            "1   keerthi           2  82  81  85    248   fail  82.666667\n",
            "2    sindhu           3  92  92  95    279   pass  93.000000\n",
            "3  shailaja           4  95  96  92    283   pass  94.333333\n",
            "4   sanjana           5  91  95  97    283   pass  94.333333\n"
          ]
        }
      ]
    }
  ]
}