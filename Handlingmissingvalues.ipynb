{
  "nbformat": 4,
  "nbformat_minor": 0,
  "metadata": {
    "colab": {
      "provenance": [],
      "authorship_tag": "ABX9TyPnEw5q6k6ArIGqR0lGofGj",
      "include_colab_link": true
    },
    "kernelspec": {
      "name": "python3",
      "display_name": "Python 3"
    },
    "language_info": {
      "name": "python"
    }
  },
  "cells": [
    {
      "cell_type": "markdown",
      "metadata": {
        "id": "view-in-github",
        "colab_type": "text"
      },
      "source": [
        "<a href=\"https://colab.research.google.com/github/2303A51629/B22_1629/blob/main/Handlingmissingvalues.ipynb\" target=\"_parent\"><img src=\"https://colab.research.google.com/assets/colab-badge.svg\" alt=\"Open In Colab\"/></a>"
      ]
    },
    {
      "cell_type": "code",
      "execution_count": 1,
      "metadata": {
        "colab": {
          "base_uri": "https://localhost:8080/"
        },
        "id": "sNtPknhfE7-2",
        "outputId": "4a59f328-f149-485c-f7f1-91c1c096bfd7"
      },
      "outputs": [
        {
          "output_type": "stream",
          "name": "stdout",
          "text": [
            "Original DataFrame:\n",
            "       Name   Age  Marks\n",
            "0      Teju  25.0   85.0\n",
            "1    sindhu   NaN   90.0\n",
            "2     kavya  30.0    NaN\n",
            "3  santhosh  28.0   92.0\n",
            "\n",
            " chech for missing values:\n",
            "    Name    Age  Marks\n",
            "0  False  False  False\n",
            "1  False   True  False\n",
            "2  False  False   True\n",
            "3  False  False  False\n"
          ]
        }
      ],
      "source": [
        "import pandas as pd\n",
        "import numpy as np\n",
        "#creating a dataset\n",
        "data = {\n",
        "    'Name':['Teju','sindhu','kavya','santhosh'],\n",
        "    'Age':[25,np.nan, 30, 28],\n",
        "    'Marks':[85,90,np.nan,92]\n",
        "}\n",
        "df = pd.DataFrame(data)\n",
        "print(\"Original DataFrame:\")\n",
        "print(df)\n",
        "#Detect missing values\n",
        "print(\"\\n chech for missing values:\")\n",
        "print(df.isnull())"
      ]
    },
    {
      "cell_type": "code",
      "source": [
        "df_dropped = df.dropna()\n",
        "print(\"\\nDataFrame after dropping missing values:\")\n",
        "print(df_dropped)"
      ],
      "metadata": {
        "colab": {
          "base_uri": "https://localhost:8080/"
        },
        "id": "TCCAIcgSHRFn",
        "outputId": "4e4a06e8-8242-4bdb-f6dd-1f8f9ddda197"
      },
      "execution_count": 2,
      "outputs": [
        {
          "output_type": "stream",
          "name": "stdout",
          "text": [
            "\n",
            "DataFrame after dropping missing values:\n",
            "       Name   Age  Marks\n",
            "0      Teju  25.0   85.0\n",
            "3  santhosh  28.0   92.0\n"
          ]
        }
      ]
    },
    {
      "cell_type": "code",
      "source": [
        "df_filled = df.fillna(0)\n",
        "print(\"\\nDataFrame after filling missing values:\")\n",
        "print(df_filled)"
      ],
      "metadata": {
        "colab": {
          "base_uri": "https://localhost:8080/"
        },
        "id": "XPoPYCHGHYOz",
        "outputId": "a6e2e1b7-3e26-41c0-f356-5e920e01bd0b"
      },
      "execution_count": 3,
      "outputs": [
        {
          "output_type": "stream",
          "name": "stdout",
          "text": [
            "\n",
            "DataFrame after filling missing values:\n",
            "       Name   Age  Marks\n",
            "0      Teju  25.0   85.0\n",
            "1    sindhu   0.0   90.0\n",
            "2     kavya  30.0    0.0\n",
            "3  santhosh  28.0   92.0\n"
          ]
        }
      ]
    },
    {
      "cell_type": "code",
      "source": [
        "df['age']=df['Age'].fillna(df['Age'].mean())\n",
        "print(df)"
      ],
      "metadata": {
        "colab": {
          "base_uri": "https://localhost:8080/"
        },
        "id": "3eV_1zYpIT2X",
        "outputId": "825e4973-9129-4694-f2dc-f00c3514f9cb"
      },
      "execution_count": 4,
      "outputs": [
        {
          "output_type": "stream",
          "name": "stdout",
          "text": [
            "       Name   Age  Marks        age\n",
            "0      Teju  25.0   85.0  25.000000\n",
            "1    sindhu   NaN   90.0  27.666667\n",
            "2     kavya  30.0    NaN  30.000000\n",
            "3  santhosh  28.0   92.0  28.000000\n"
          ]
        }
      ]
    },
    {
      "cell_type": "code",
      "source": [
        "df['marks']=df['Marks'].fillna(df['Marks'].median())\n",
        "print(df)"
      ],
      "metadata": {
        "colab": {
          "base_uri": "https://localhost:8080/"
        },
        "id": "tf9Hz3lhIpkq",
        "outputId": "803ff56a-d520-4252-f97a-4343aef30571"
      },
      "execution_count": 5,
      "outputs": [
        {
          "output_type": "stream",
          "name": "stdout",
          "text": [
            "       Name   Age  Marks        age  marks\n",
            "0      Teju  25.0   85.0  25.000000   85.0\n",
            "1    sindhu   NaN   90.0  27.666667   90.0\n",
            "2     kavya  30.0    NaN  30.000000   90.0\n",
            "3  santhosh  28.0   92.0  28.000000   92.0\n"
          ]
        }
      ]
    },
    {
      "cell_type": "code",
      "source": [
        "#Handling Duplicates : Remove Duplicates\n",
        "data = {\n",
        "    'ID':[1,2,2,3,4,4],\n",
        "    'Name':['Teju','sindhu','kavya','santhosh','Vyshu','shai'],\n",
        "    'Marks':[85,90,90,92,78,92]\n",
        "}\n",
        "df = pd.DataFrame(data)\n",
        "print(\"Original DataFrame:\")\n",
        "print(df)\n",
        "#Remove duplicate rows\n",
        "df_no_duplicates = df.drop_duplicates('ID')\n",
        "print(\"\\n after removing duplicates:\")\n",
        "print(df_no_duplicates)"
      ],
      "metadata": {
        "colab": {
          "base_uri": "https://localhost:8080/"
        },
        "id": "aHJ02a3VK9Oi",
        "outputId": "171eef90-3048-4330-e17c-7b9df9b989f2"
      },
      "execution_count": 7,
      "outputs": [
        {
          "output_type": "stream",
          "name": "stdout",
          "text": [
            "Original DataFrame:\n",
            "   ID      Name  Marks\n",
            "0   1      Teju     85\n",
            "1   2    sindhu     90\n",
            "2   2     kavya     90\n",
            "3   3  santhosh     92\n",
            "4   4     Vyshu     78\n",
            "5   4      shai     92\n",
            "\n",
            " after removing duplicates:\n",
            "   ID      Name  Marks\n",
            "0   1      Teju     85\n",
            "1   2    sindhu     90\n",
            "3   3  santhosh     92\n",
            "4   4     Vyshu     78\n"
          ]
        }
      ]
    },
    {
      "cell_type": "code",
      "source": [
        "#Changing data Types\n",
        "data = {\n",
        "    'ID':['1','2','3','4'],\n",
        "    'Marks':[85,90,92,78]\n",
        "}\n",
        "df = pd.DataFrame(data)\n",
        "print(\"Original Data Types:\")\n",
        "print(df.dtypes)\n",
        "\n",
        "#convert to numeric\n",
        "df['ID']=pd.to_numeric(df['ID'])\n",
        "df['Marks']=pd.to_numeric(df['Marks'])\n",
        "print(\"\\nAfter converting data types:\")\n",
        "print(df.dtypes)"
      ],
      "metadata": {
        "colab": {
          "base_uri": "https://localhost:8080/"
        },
        "id": "7iiwrM8sLsrW",
        "outputId": "d042f6b4-f324-4074-97c7-3662e516e2b1"
      },
      "execution_count": 8,
      "outputs": [
        {
          "output_type": "stream",
          "name": "stdout",
          "text": [
            "Original Data Types:\n",
            "ID       object\n",
            "Marks     int64\n",
            "dtype: object\n",
            "\n",
            "After converting data types:\n",
            "ID       int64\n",
            "Marks    int64\n",
            "dtype: object\n"
          ]
        }
      ]
    },
    {
      "cell_type": "code",
      "source": [
        "#applying functions\n",
        "df['Marks']=df['Marks'].apply(lambda x:x+5)\n",
        "print(df)"
      ],
      "metadata": {
        "colab": {
          "base_uri": "https://localhost:8080/"
        },
        "id": "-vjYGoWCMc1h",
        "outputId": "81c82ed5-bf8b-4821-8666-9d0158def387"
      },
      "execution_count": 10,
      "outputs": [
        {
          "output_type": "stream",
          "name": "stdout",
          "text": [
            "   ID  Marks\n",
            "0   1     90\n",
            "1   2     95\n",
            "2   3     97\n",
            "3   4     83\n"
          ]
        }
      ]
    },
    {
      "cell_type": "code",
      "source": [
        "#Normalization(Scaling between 0 and 1)\n",
        "df['Marks_Normalized']=(df['Marks']-df['Marks'].min())/(df['Marks'].max()-df['Marks'].min())\n",
        "print(\"Normalized Marks:\")\n",
        "print(df)"
      ],
      "metadata": {
        "colab": {
          "base_uri": "https://localhost:8080/"
        },
        "id": "Ju8PnPMBRffE",
        "outputId": "682acba9-1e8b-44d0-d6e5-adca0cf3c25b"
      },
      "execution_count": 12,
      "outputs": [
        {
          "output_type": "stream",
          "name": "stdout",
          "text": [
            "Normalized Marks:\n",
            "   ID  Marks  Marks_Normalized\n",
            "0   1     90          0.500000\n",
            "1   2     95          0.857143\n",
            "2   3     97          1.000000\n",
            "3   4     83          0.000000\n"
          ]
        }
      ]
    }
  ]
}